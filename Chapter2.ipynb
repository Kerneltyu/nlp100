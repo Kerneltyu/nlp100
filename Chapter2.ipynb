{
 "cells": [
  {
   "cell_type": "markdown",
   "metadata": {},
   "source": [
    "10.行数のカウント"
   ]
  },
  {
   "cell_type": "code",
   "execution_count": 107,
   "metadata": {},
   "outputs": [
    {
     "name": "stdout",
     "output_type": "stream",
     "text": [
      "      24 hightemp.txt\n"
     ]
    }
   ],
   "source": [
    "%%bash\n",
    "wc -l hightemp.txt"
   ]
  },
  {
   "cell_type": "code",
   "execution_count": 22,
   "metadata": {},
   "outputs": [
    {
     "name": "stdout",
     "output_type": "stream",
     "text": [
      "24\n"
     ]
    }
   ],
   "source": [
    "data = open(\"hightemp.txt\", \"r\")\n",
    "line_num = 0\n",
    "for line in data:\n",
    "    line_num = line_num + 1\n",
    "data.close()\n",
    "print(line_num)"
   ]
  },
  {
   "cell_type": "markdown",
   "metadata": {},
   "source": [
    "11.タブをスペースに置換"
   ]
  },
  {
   "cell_type": "code",
   "execution_count": 39,
   "metadata": {},
   "outputs": [
    {
     "name": "stdout",
     "output_type": "stream",
     "text": [
      "高知県 江川崎 41 2013-08-12\n",
      "埼玉県 熊谷 40.9 2007-08-16\n",
      "岐阜県 多治見 40.9 2007-08-16\n",
      "山形県 山形 40.8 1933-07-25\n",
      "山梨県 甲府 40.7 2013-08-10\n",
      "和歌山県 かつらぎ 40.6 1994-08-08\n",
      "静岡県 天竜 40.6 1994-08-04\n",
      "山梨県 勝沼 40.5 2013-08-10\n",
      "埼玉県 越谷 40.4 2007-08-16\n",
      "群馬県 館林 40.3 2007-08-16\n",
      "群馬県 上里見 40.3 1998-07-04\n",
      "愛知県 愛西 40.3 1994-08-05\n",
      "千葉県 牛久 40.2 2004-07-20\n",
      "静岡県 佐久間 40.2 2001-07-24\n",
      "愛媛県 宇和島 40.2 1927-07-22\n",
      "山形県 酒田 40.1 1978-08-03\n",
      "岐阜県 美濃 40 2007-08-16\n",
      "群馬県 前橋 40 2001-07-24\n",
      "千葉県 茂原 39.9 2013-08-11\n",
      "埼玉県 鳩山 39.9 1997-07-05\n",
      "大阪府 豊中 39.9 1994-08-08\n",
      "山梨県 大月 39.9 1990-07-19\n",
      "山形県 鶴岡 39.9 1978-08-03\n",
      "愛知県 名古屋 39.9 1942-08-02\n"
     ]
    }
   ],
   "source": [
    "%%bash\n",
    "expand -t 1 hightemp.txt"
   ]
  },
  {
   "cell_type": "code",
   "execution_count": 40,
   "metadata": {},
   "outputs": [
    {
     "name": "stdout",
     "output_type": "stream",
     "text": [
      "高知県 江川崎 41 2013-08-12\n",
      "埼玉県 熊谷 40.9 2007-08-16\n",
      "岐阜県 多治見 40.9 2007-08-16\n",
      "山形県 山形 40.8 1933-07-25\n",
      "山梨県 甲府 40.7 2013-08-10\n",
      "和歌山県 かつらぎ 40.6 1994-08-08\n",
      "静岡県 天竜 40.6 1994-08-04\n",
      "山梨県 勝沼 40.5 2013-08-10\n",
      "埼玉県 越谷 40.4 2007-08-16\n",
      "群馬県 館林 40.3 2007-08-16\n",
      "群馬県 上里見 40.3 1998-07-04\n",
      "愛知県 愛西 40.3 1994-08-05\n",
      "千葉県 牛久 40.2 2004-07-20\n",
      "静岡県 佐久間 40.2 2001-07-24\n",
      "愛媛県 宇和島 40.2 1927-07-22\n",
      "山形県 酒田 40.1 1978-08-03\n",
      "岐阜県 美濃 40 2007-08-16\n",
      "群馬県 前橋 40 2001-07-24\n",
      "千葉県 茂原 39.9 2013-08-11\n",
      "埼玉県 鳩山 39.9 1997-07-05\n",
      "大阪府 豊中 39.9 1994-08-08\n",
      "山梨県 大月 39.9 1990-07-19\n",
      "山形県 鶴岡 39.9 1978-08-03\n",
      "愛知県 名古屋 39.9 1942-08-02\n"
     ]
    }
   ],
   "source": [
    "%%bash\n",
    "cat hightemp.txt | tr \"\\t\" \" \""
   ]
  },
  {
   "cell_type": "code",
   "execution_count": 46,
   "metadata": {},
   "outputs": [
    {
     "name": "stdout",
     "output_type": "stream",
     "text": [
      "高知県\t江川崎\t41\t2013-08-12\n",
      "埼玉県\t熊谷\t40.9\t2007-08-16\n",
      "岐阜県\t多治見\t40.9\t2007-08-16\n",
      "山形県\t山形\t40.8\t1933-07-25\n",
      "山梨県\t甲府\t40.7\t2013-08-10\n",
      "和歌山県\tかつらぎ\t40.6\t1994-08-08\n",
      "静岡県\t天竜\t40.6\t1994-08-04\n",
      "山梨県\t勝沼\t40.5\t2013-08-10\n",
      "埼玉県\t越谷\t40.4\t2007-08-16\n",
      "群馬県\t館林\t40.3\t2007-08-16\n",
      "群馬県\t上里見\t40.3\t1998-07-04\n",
      "愛知県\t愛西\t40.3\t1994-08-05\n",
      "千葉県\t牛久\t40.2\t2004-07-20\n",
      "静岡県\t佐久間\t40.2\t2001-07-24\n",
      "愛媛県\t宇和島\t40.2\t1927-07-22\n",
      "山形県\t酒田\t40.1\t1978-08-03\n",
      "岐阜県\t美濃\t40\t2007-08-16\n",
      "群馬県\t前橋\t40\t2001-07-24\n",
      "千葉県\t茂原\t39.9\t2013-08-11\n",
      "埼玉県\t鳩山\t39.9\t1997-07-05\n",
      "大阪府\t豊中\t39.9\t1994-08-08\n",
      "山梨県\t大月\t39.9\t1990-07-19\n",
      "山形県\t鶴岡\t39.9\t1978-08-03\n",
      "愛知県\t名古屋\t39.9\t1942-08-02\n"
     ]
    }
   ],
   "source": [
    "%%bash\n",
    "sed -e 's/<tab>/<space>/g' hightemp.txt"
   ]
  },
  {
   "cell_type": "code",
   "execution_count": 32,
   "metadata": {
    "collapsed": true
   },
   "outputs": [],
   "source": [
    "data= open(\"hightemp.txt\", \"r\")\n",
    "write_data = open(\"hightemp_b.text\", \"w\")\n",
    "line_data = []\n",
    "for line in data:\n",
    "    write_data.write(line.replace(\"\\t\",\" \"))\n",
    "write_data.close()\n",
    "data.close()"
   ]
  },
  {
   "cell_type": "code",
   "execution_count": 33,
   "metadata": {},
   "outputs": [
    {
     "name": "stdout",
     "output_type": "stream",
     "text": [
      "高知県 江川崎 41 2013-08-12\n",
      "埼玉県 熊谷 40.9 2007-08-16\n",
      "岐阜県 多治見 40.9 2007-08-16\n",
      "山形県 山形 40.8 1933-07-25\n",
      "山梨県 甲府 40.7 2013-08-10\n",
      "和歌山県 かつらぎ 40.6 1994-08-08\n",
      "静岡県 天竜 40.6 1994-08-04\n",
      "山梨県 勝沼 40.5 2013-08-10\n",
      "埼玉県 越谷 40.4 2007-08-16\n",
      "群馬県 館林 40.3 2007-08-16\n",
      "群馬県 上里見 40.3 1998-07-04\n",
      "愛知県 愛西 40.3 1994-08-05\n",
      "千葉県 牛久 40.2 2004-07-20\n",
      "静岡県 佐久間 40.2 2001-07-24\n",
      "愛媛県 宇和島 40.2 1927-07-22\n",
      "山形県 酒田 40.1 1978-08-03\n",
      "岐阜県 美濃 40 2007-08-16\n",
      "群馬県 前橋 40 2001-07-24\n",
      "千葉県 茂原 39.9 2013-08-11\n",
      "埼玉県 鳩山 39.9 1997-07-05\n",
      "大阪府 豊中 39.9 1994-08-08\n",
      "山梨県 大月 39.9 1990-07-19\n",
      "山形県 鶴岡 39.9 1978-08-03\n",
      "愛知県 名古屋 39.9 1942-08-02\n"
     ]
    }
   ],
   "source": [
    "%%bash\n",
    "cat hightemp_b.text"
   ]
  },
  {
   "cell_type": "markdown",
   "metadata": {},
   "source": [
    "12.1列目をcol1.txt1に，2列目をcol2.txtに保存"
   ]
  },
  {
   "cell_type": "code",
   "execution_count": 57,
   "metadata": {
    "collapsed": true
   },
   "outputs": [],
   "source": [
    "data = open(\"hightemp.txt\", \"r\")\n",
    "col1 = open(\"col1.txt\", \"w\")\n",
    "col2 = open(\"col2.txt\", \"w\")\n",
    "column1 = []\n",
    "column2 = []\n",
    "tmp_data = []\n",
    "for line in data:\n",
    "    tmp_data = line.split(\"\\t\")\n",
    "    col1.write(tmp_data[0]+\"\\n\")\n",
    "    col2.write(tmp_data[1]+\"\\n\")\n",
    "data.close()\n",
    "col1.close()\n",
    "col2.close()"
   ]
  },
  {
   "cell_type": "code",
   "execution_count": 58,
   "metadata": {},
   "outputs": [
    {
     "name": "stdout",
     "output_type": "stream",
     "text": [
      "高知県\n",
      "埼玉県\n",
      "岐阜県\n",
      "山形県\n",
      "山梨県\n",
      "和歌山県\n",
      "静岡県\n",
      "山梨県\n",
      "埼玉県\n",
      "群馬県\n",
      "群馬県\n",
      "愛知県\n",
      "千葉県\n",
      "静岡県\n",
      "愛媛県\n",
      "山形県\n",
      "岐阜県\n",
      "群馬県\n",
      "千葉県\n",
      "埼玉県\n",
      "大阪府\n",
      "山梨県\n",
      "山形県\n",
      "愛知県\n",
      "江川崎\n",
      "熊谷\n",
      "多治見\n",
      "山形\n",
      "甲府\n",
      "かつらぎ\n",
      "天竜\n",
      "勝沼\n",
      "越谷\n",
      "館林\n",
      "上里見\n",
      "愛西\n",
      "牛久\n",
      "佐久間\n",
      "宇和島\n",
      "酒田\n",
      "美濃\n",
      "前橋\n",
      "茂原\n",
      "鳩山\n",
      "豊中\n",
      "大月\n",
      "鶴岡\n",
      "名古屋\n"
     ]
    }
   ],
   "source": [
    "%%bash\n",
    "cat col1.txt\n",
    "cat col2.txt"
   ]
  },
  {
   "cell_type": "code",
   "execution_count": 64,
   "metadata": {},
   "outputs": [
    {
     "name": "stdout",
     "output_type": "stream",
     "text": [
      "高知県\n",
      "埼玉県\n",
      "岐阜県\n",
      "山形県\n",
      "山梨県\n",
      "和歌山県\n",
      "静岡県\n",
      "山梨県\n",
      "埼玉県\n",
      "群馬県\n",
      "群馬県\n",
      "愛知県\n",
      "千葉県\n",
      "静岡県\n",
      "愛媛県\n",
      "山形県\n",
      "岐阜県\n",
      "群馬県\n",
      "千葉県\n",
      "埼玉県\n",
      "大阪府\n",
      "山梨県\n",
      "山形県\n",
      "愛知県\n",
      "江川崎\n",
      "熊谷\n",
      "多治見\n",
      "山形\n",
      "甲府\n",
      "かつらぎ\n",
      "天竜\n",
      "勝沼\n",
      "越谷\n",
      "館林\n",
      "上里見\n",
      "愛西\n",
      "牛久\n",
      "佐久間\n",
      "宇和島\n",
      "酒田\n",
      "美濃\n",
      "前橋\n",
      "茂原\n",
      "鳩山\n",
      "豊中\n",
      "大月\n",
      "鶴岡\n",
      "名古屋\n"
     ]
    }
   ],
   "source": [
    "%%bash\n",
    "cut -f 1 hightemp.txt\n",
    "cut -f 2 hightemp.txt"
   ]
  },
  {
   "cell_type": "markdown",
   "metadata": {},
   "source": [
    "13.col1.txtとcol2.txtをマージ"
   ]
  },
  {
   "cell_type": "code",
   "execution_count": 85,
   "metadata": {
    "collapsed": true
   },
   "outputs": [],
   "source": [
    "data1 = open(\"col1.txt\", \"r\")\n",
    "data2 = open(\"col2.txt\", \"r\")\n",
    "out = open(\"col12.txt\", \"w\")\n",
    "for line1, line2 in zip(data1, data2):\n",
    "    out.write(line1.strip()+\"\\t\"+line2.strip()+\"\\n\")\n",
    "data1.close()\n",
    "data2.close()\n",
    "out.close()"
   ]
  },
  {
   "cell_type": "code",
   "execution_count": 86,
   "metadata": {},
   "outputs": [
    {
     "name": "stdout",
     "output_type": "stream",
     "text": [
      "高知県\t江川崎\n",
      "埼玉県\t熊谷\n",
      "岐阜県\t多治見\n",
      "山形県\t山形\n",
      "山梨県\t甲府\n",
      "和歌山県\tかつらぎ\n",
      "静岡県\t天竜\n",
      "山梨県\t勝沼\n",
      "埼玉県\t越谷\n",
      "群馬県\t館林\n",
      "群馬県\t上里見\n",
      "愛知県\t愛西\n",
      "千葉県\t牛久\n",
      "静岡県\t佐久間\n",
      "愛媛県\t宇和島\n",
      "山形県\t酒田\n",
      "岐阜県\t美濃\n",
      "群馬県\t前橋\n",
      "千葉県\t茂原\n",
      "埼玉県\t鳩山\n",
      "大阪府\t豊中\n",
      "山梨県\t大月\n",
      "山形県\t鶴岡\n",
      "愛知県\t名古屋\n"
     ]
    }
   ],
   "source": [
    "%%bash\n",
    "cat col12.txt"
   ]
  },
  {
   "cell_type": "code",
   "execution_count": 84,
   "metadata": {},
   "outputs": [
    {
     "name": "stdout",
     "output_type": "stream",
     "text": [
      "高知県\t江川崎\n",
      "埼玉県\t熊谷\n",
      "岐阜県\t多治見\n",
      "山形県\t山形\n",
      "山梨県\t甲府\n",
      "和歌山県\tかつらぎ\n",
      "静岡県\t天竜\n",
      "山梨県\t勝沼\n",
      "埼玉県\t越谷\n",
      "群馬県\t館林\n",
      "群馬県\t上里見\n",
      "愛知県\t愛西\n",
      "千葉県\t牛久\n",
      "静岡県\t佐久間\n",
      "愛媛県\t宇和島\n",
      "山形県\t酒田\n",
      "岐阜県\t美濃\n",
      "群馬県\t前橋\n",
      "千葉県\t茂原\n",
      "埼玉県\t鳩山\n",
      "大阪府\t豊中\n",
      "山梨県\t大月\n",
      "山形県\t鶴岡\n",
      "愛知県\t名古屋\n"
     ]
    }
   ],
   "source": [
    "%%bash\n",
    "paste col1.txt col2.txt"
   ]
  },
  {
   "cell_type": "markdown",
   "metadata": {},
   "source": [
    "14.先頭からN行を出力 "
   ]
  },
  {
   "cell_type": "code",
   "execution_count": 90,
   "metadata": {},
   "outputs": [
    {
     "name": "stdout",
     "output_type": "stream",
     "text": [
      "3\n",
      "高知県\t江川崎\t41\t2013-08-12\n",
      "\n",
      "埼玉県\t熊谷\t40.9\t2007-08-16\n",
      "\n",
      "岐阜県\t多治見\t40.9\t2007-08-16\n",
      "\n"
     ]
    }
   ],
   "source": [
    "N = int(input())\n",
    "data = open(\"hightemp.txt\", \"r\")\n",
    "for i, line in enumerate(data):\n",
    "    if(i==N):\n",
    "        break\n",
    "    print(line)\n",
    "data.close()"
   ]
  },
  {
   "cell_type": "code",
   "execution_count": 89,
   "metadata": {},
   "outputs": [
    {
     "name": "stdout",
     "output_type": "stream",
     "text": [
      "高知県\t江川崎\t41\t2013-08-12\n",
      "埼玉県\t熊谷\t40.9\t2007-08-16\n",
      "岐阜県\t多治見\t40.9\t2007-08-16\n"
     ]
    }
   ],
   "source": [
    "%%bash\n",
    "head -n 3 hightemp.txt"
   ]
  },
  {
   "cell_type": "markdown",
   "metadata": {},
   "source": [
    "15.末尾のN行を出力"
   ]
  },
  {
   "cell_type": "code",
   "execution_count": 103,
   "metadata": {},
   "outputs": [
    {
     "name": "stdout",
     "output_type": "stream",
     "text": [
      "3\n",
      "山梨県\t大月\t39.9\t1990-07-19\n",
      "\n",
      "山形県\t鶴岡\t39.9\t1978-08-03\n",
      "\n",
      "愛知県\t名古屋\t39.9\t1942-08-02\n",
      "\n"
     ]
    }
   ],
   "source": [
    "N = int(input())\n",
    "try:\n",
    "    data = open(\"hightemp.txt\",\"r\")\n",
    "    list_data = []\n",
    "    for line in data:\n",
    "        list_data.append(line)\n",
    "    num = len(list_data)\n",
    "    for line in list_data[num-N:num]:\n",
    "        print(line)\n",
    "except Exception as e:\n",
    "    print(e)\n",
    "finally:\n",
    "    data.close()"
   ]
  },
  {
   "cell_type": "code",
   "execution_count": 104,
   "metadata": {},
   "outputs": [
    {
     "name": "stdout",
     "output_type": "stream",
     "text": [
      "山梨県\t大月\t39.9\t1990-07-19\n",
      "山形県\t鶴岡\t39.9\t1978-08-03\n",
      "愛知県\t名古屋\t39.9\t1942-08-02\n"
     ]
    }
   ],
   "source": [
    "%%bash\n",
    "tail -n 3 hightemp.txt"
   ]
  },
  {
   "cell_type": "markdown",
   "metadata": {
    "collapsed": true
   },
   "source": [
    "16.ファイルをN分割する"
   ]
  },
  {
   "cell_type": "code",
   "execution_count": 47,
   "metadata": {},
   "outputs": [
    {
     "name": "stdout",
     "output_type": "stream",
     "text": [
      "5\n",
      "['高知県\\t江川崎\\t41\\t2013-08-12', '埼玉県\\t熊谷\\t40.9\\t2007-08-16', '岐阜県\\t多治見\\t40.9\\t2007-08-16', '山形県\\t山形\\t40.8\\t1933-07-25', '山梨県\\t甲府\\t40.7\\t2013-08-10', '和歌山県\\tかつらぎ\\t40.6\\t1994-08-08', '静岡県\\t天竜\\t40.6\\t1994-08-04', '山梨県\\t勝沼\\t40.5\\t2013-08-10', '埼玉県\\t越谷\\t40.4\\t2007-08-16', '群馬県\\t館林\\t40.3\\t2007-08-16', '群馬県\\t上里見\\t40.3\\t1998-07-04', '愛知県\\t愛西\\t40.3\\t1994-08-05', '千葉県\\t牛久\\t40.2\\t2004-07-20', '静岡県\\t佐久間\\t40.2\\t2001-07-24', '愛媛県\\t宇和島\\t40.2\\t1927-07-22', '山形県\\t酒田\\t40.1\\t1978-08-03', '岐阜県\\t美濃\\t40\\t2007-08-16', '群馬県\\t前橋\\t40\\t2001-07-24', '千葉県\\t茂原\\t39.9\\t2013-08-11', '埼玉県\\t鳩山\\t39.9\\t1997-07-05', '大阪府\\t豊中\\t39.9\\t1994-08-08', '山梨県\\t大月\\t39.9\\t1990-07-19', '山形県\\t鶴岡\\t39.9\\t1978-08-03', '愛知県\\t名古屋\\t39.9\\t1942-08-02', '']\n",
      "[['高知県\\t江川崎\\t41\\t2013-08-12', '埼玉県\\t熊谷\\t40.9\\t2007-08-16', '岐阜県\\t多治見\\t40.9\\t2007-08-16', '山形県\\t山形\\t40.8\\t1933-07-25', '山梨県\\t甲府\\t40.7\\t2013-08-10'], ['和歌山県\\tかつらぎ\\t40.6\\t1994-08-08', '静岡県\\t天竜\\t40.6\\t1994-08-04', '山梨県\\t勝沼\\t40.5\\t2013-08-10', '埼玉県\\t越谷\\t40.4\\t2007-08-16', '群馬県\\t館林\\t40.3\\t2007-08-16'], ['群馬県\\t上里見\\t40.3\\t1998-07-04', '愛知県\\t愛西\\t40.3\\t1994-08-05', '千葉県\\t牛久\\t40.2\\t2004-07-20', '静岡県\\t佐久間\\t40.2\\t2001-07-24', '愛媛県\\t宇和島\\t40.2\\t1927-07-22'], ['山形県\\t酒田\\t40.1\\t1978-08-03', '岐阜県\\t美濃\\t40\\t2007-08-16', '群馬県\\t前橋\\t40\\t2001-07-24', '千葉県\\t茂原\\t39.9\\t2013-08-11', '埼玉県\\t鳩山\\t39.9\\t1997-07-05'], ['大阪府\\t豊中\\t39.9\\t1994-08-08', '山梨県\\t大月\\t39.9\\t1990-07-19', '山形県\\t鶴岡\\t39.9\\t1978-08-03', '愛知県\\t名古屋\\t39.9\\t1942-08-02', '']]\n"
     ]
    }
   ],
   "source": [
    "import os \n",
    "N = int(input())\n",
    "seperater = os.linesep\n",
    "with open(\"hightemp.txt\") as file:\n",
    "    data = file.read().split(seperater)\n",
    "    print(data)\n",
    "    n = len(data)\n",
    "    l = n // N\n",
    "    sepl = [data[i*l:(i+1)*l] if (i+1)*l < n else data[i*l:] for i in range(N)]\n",
    "    print(sepl)"
   ]
  },
  {
   "cell_type": "code",
   "execution_count": 45,
   "metadata": {},
   "outputs": [
    {
     "name": "stdout",
     "output_type": "stream",
     "text": [
      "-rw-r--r--  1 kerneltyu  staff  211 May 13 13:01 hightemp-aa\n",
      "-rw-r--r--  1 kerneltyu  staff  201 May 13 13:01 hightemp-ab\n",
      "-rw-r--r--  1 kerneltyu  staff  200 May 13 13:01 hightemp-ac\n",
      "-rw-r--r--  1 kerneltyu  staff  201 May 13 13:01 hightemp-ad\n",
      "-rw-r--r--@ 1 kerneltyu  staff  813 May 10 01:01 hightemp.txt\n",
      "-rw-r--r--  1 kerneltyu  staff  813 May 10 01:59 hightemp_b.text\n"
     ]
    }
   ],
   "source": [
    "%%bash\n",
    "var=`cat hightemp.txt | wc -l`\n",
    "input=4\n",
    "len=`expr $var / $input`\n",
    "split -l $len hightemp.txt hightemp-\n",
    "ls -l hightemp*"
   ]
  },
  {
   "cell_type": "code",
   "execution_count": 44,
   "metadata": {},
   "outputs": [],
   "source": [
    "%%bash\n",
    "rm hightemp-*"
   ]
  },
  {
   "cell_type": "markdown",
   "metadata": {},
   "source": [
    "17.1列目の文字列の異なり"
   ]
  },
  {
   "cell_type": "code",
   "execution_count": 147,
   "metadata": {},
   "outputs": [
    {
     "name": "stdout",
     "output_type": "stream",
     "text": [
      "['千葉県', '和歌山県', '埼玉県', '大阪府', '山形県', '山梨県', '岐阜県', '愛媛県', '愛知県', '群馬県', '静岡県', '高知県']\n"
     ]
    }
   ],
   "source": [
    "import os\n",
    "sep = os.linesep\n",
    "with open(\"hightemp.txt\", encoding='utf-8') as file:\n",
    "    data = file.read().split(sep)\n",
    "first_data = []\n",
    "for i, d in enumerate(data):\n",
    "    dd = d.split('\\t')[0]\n",
    "    if(dd != ''):\n",
    "        first_data.append(dd)\n",
    "\n",
    "print(sorted(list(set(first_data))))"
   ]
  },
  {
   "cell_type": "code",
   "execution_count": 148,
   "metadata": {},
   "outputs": [
    {
     "name": "stdout",
     "output_type": "stream",
     "text": [
      "千葉県\n",
      "埼玉県\n",
      "大阪府\n",
      "山形県\n",
      "山梨県\n",
      "岐阜県\n",
      "愛媛県\n",
      "愛知県\n",
      "群馬県\n",
      "静岡県\n",
      "高知県\n",
      "和歌山県\n"
     ]
    }
   ],
   "source": [
    "%%bash\n",
    "cat hightemp.txt | cut -f 1 > col1.txt\n",
    "sort col1.txt | uniq\n",
    "rm col1.txt"
   ]
  },
  {
   "cell_type": "markdown",
   "metadata": {},
   "source": [
    "18.各行を3コラム目の数値の降順にソート"
   ]
  },
  {
   "cell_type": "code",
   "execution_count": 84,
   "metadata": {},
   "outputs": [
    {
     "name": "stdout",
     "output_type": "stream",
     "text": [
      "['千葉県\\t茂原\\t39.9\\t2013-08-11', '埼玉県\\t鳩山\\t39.9\\t1997-07-05', '大阪府\\t豊中\\t39.9\\t1994-08-08', '山梨県\\t大月\\t39.9\\t1990-07-19', '山形県\\t鶴岡\\t39.9\\t1978-08-03', '愛知県\\t名古屋\\t39.9\\t1942-08-02', '岐阜県\\t美濃\\t40\\t2007-08-16', '群馬県\\t前橋\\t40\\t2001-07-24', '山形県\\t酒田\\t40.1\\t1978-08-03', '千葉県\\t牛久\\t40.2\\t2004-07-20', '静岡県\\t佐久間\\t40.2\\t2001-07-24', '愛媛県\\t宇和島\\t40.2\\t1927-07-22', '群馬県\\t館林\\t40.3\\t2007-08-16', '群馬県\\t上里見\\t40.3\\t1998-07-04', '愛知県\\t愛西\\t40.3\\t1994-08-05', '埼玉県\\t越谷\\t40.4\\t2007-08-16', '山梨県\\t勝沼\\t40.5\\t2013-08-10', '和歌山県\\tかつらぎ\\t40.6\\t1994-08-08', '静岡県\\t天竜\\t40.6\\t1994-08-04', '山梨県\\t甲府\\t40.7\\t2013-08-10', '山形県\\t山形\\t40.8\\t1933-07-25', '埼玉県\\t熊谷\\t40.9\\t2007-08-16', '岐阜県\\t多治見\\t40.9\\t2007-08-16', '高知県\\t江川崎\\t41\\t2013-08-12']\n"
     ]
    }
   ],
   "source": [
    "import os \n",
    "sep = os.linesep\n",
    "def keyfunc(keyword):\n",
    "    return keyword[2]\n",
    "    \n",
    "with open(\"hightemp.txt\") as file:\n",
    "    data = file.read().split(sep)\n",
    "tdata = []\n",
    "for line in data:\n",
    "    if(line != ''):\n",
    "        tdata.append(line.split('\\t'))\n",
    "        \n",
    "sorted(tdata, key=keyfunc, reverse=True)\n",
    "out_data = []\n",
    "for line in sorted(tdata, key=keyfunc):\n",
    "    out_data.append('\\t'.join(line))\n",
    "print(out_data)"
   ]
  },
  {
   "cell_type": "code",
   "execution_count": 156,
   "metadata": {},
   "outputs": [
    {
     "name": "stdout",
     "output_type": "stream",
     "text": [
      "愛知県\t名古屋\t39.9\t1942-08-02\n",
      "山形県\t鶴岡\t39.9\t1978-08-03\n",
      "山梨県\t大月\t39.9\t1990-07-19\n",
      "大阪府\t豊中\t39.9\t1994-08-08\n",
      "埼玉県\t鳩山\t39.9\t1997-07-05\n",
      "千葉県\t茂原\t39.9\t2013-08-11\n",
      "群馬県\t前橋\t40\t2001-07-24\n",
      "岐阜県\t美濃\t40\t2007-08-16\n",
      "山形県\t酒田\t40.1\t1978-08-03\n",
      "愛媛県\t宇和島\t40.2\t1927-07-22\n",
      "静岡県\t佐久間\t40.2\t2001-07-24\n",
      "千葉県\t牛久\t40.2\t2004-07-20\n",
      "愛知県\t愛西\t40.3\t1994-08-05\n",
      "群馬県\t上里見\t40.3\t1998-07-04\n",
      "群馬県\t館林\t40.3\t2007-08-16\n",
      "埼玉県\t越谷\t40.4\t2007-08-16\n",
      "山梨県\t勝沼\t40.5\t2013-08-10\n",
      "静岡県\t天竜\t40.6\t1994-08-04\n",
      "和歌山県\tかつらぎ\t40.6\t1994-08-08\n",
      "山梨県\t甲府\t40.7\t2013-08-10\n",
      "山形県\t山形\t40.8\t1933-07-25\n",
      "埼玉県\t熊谷\t40.9\t2007-08-16\n",
      "岐阜県\t多治見\t40.9\t2007-08-16\n",
      "高知県\t江川崎\t41\t2013-08-12\n"
     ]
    }
   ],
   "source": [
    "%%bash\n",
    "sort -k 3 hightemp.txt"
   ]
  },
  {
   "cell_type": "markdown",
   "metadata": {},
   "source": [
    "19.各行の1コラム目の文字列の出現頻度を求め，出現頻度の高い順に並べる"
   ]
  },
  {
   "cell_type": "code",
   "execution_count": 173,
   "metadata": {},
   "outputs": [
    {
     "name": "stdout",
     "output_type": "stream",
     "text": [
      "[['埼玉県', '熊谷', '40.9', '2007-08-16', 3], ['山形県', '山形', '40.8', '1933-07-25', 3], ['山梨県', '甲府', '40.7', '2013-08-10', 3], ['山梨県', '勝沼', '40.5', '2013-08-10', 3], ['埼玉県', '越谷', '40.4', '2007-08-16', 3], ['群馬県', '館林', '40.3', '2007-08-16', 3], ['群馬県', '上里見', '40.3', '1998-07-04', 3], ['山形県', '酒田', '40.1', '1978-08-03', 3], ['群馬県', '前橋', '40', '2001-07-24', 3], ['埼玉県', '鳩山', '39.9', '1997-07-05', 3], ['山梨県', '大月', '39.9', '1990-07-19', 3], ['山形県', '鶴岡', '39.9', '1978-08-03', 3], ['岐阜県', '多治見', '40.9', '2007-08-16', 2], ['静岡県', '天竜', '40.6', '1994-08-04', 2], ['愛知県', '愛西', '40.3', '1994-08-05', 2], ['千葉県', '牛久', '40.2', '2004-07-20', 2], ['静岡県', '佐久間', '40.2', '2001-07-24', 2], ['岐阜県', '美濃', '40', '2007-08-16', 2], ['千葉県', '茂原', '39.9', '2013-08-11', 2], ['愛知県', '名古屋', '39.9', '1942-08-02', 2], ['高知県', '江川崎', '41', '2013-08-12', 1], ['和歌山県', 'かつらぎ', '40.6', '1994-08-08', 1], ['愛媛県', '宇和島', '40.2', '1927-07-22', 1], ['大阪府', '豊中', '39.9', '1994-08-08', 1]]\n"
     ]
    }
   ],
   "source": [
    "import os \n",
    "import numpy as np\n",
    "sep = os.linesep\n",
    "\n",
    "with open(\"hightemp.txt\") as file:\n",
    "    data = file.read().split(sep)\n",
    "tdata = []\n",
    "table = []\n",
    "for line in data:\n",
    "    if(line != ''):\n",
    "        tdata.append(line.split('\\t')[0])\n",
    "        table.append(line.split('\\t'))\n",
    "dic = {}\n",
    "bases = list(set(tdata))\n",
    "values = [0 for i in range(len(bases))]\n",
    "zipped = zip(bases, values)\n",
    "d = {b:v for b,v in zipped}\n",
    "for line in tdata:\n",
    "    d[line] += 1\n",
    "\n",
    "for dat, val in zip(d.keys(), d.values()):\n",
    "    for line in table:\n",
    "        if(line[0] == dat):\n",
    "            line.append(val)\n",
    "keyvalue = lambda key: key[4]\n",
    "print(sorted(table, key=keyvalue, reverse=True))"
   ]
  },
  {
   "cell_type": "code",
   "execution_count": 172,
   "metadata": {},
   "outputs": [
    {
     "name": "stdout",
     "output_type": "stream",
     "text": [
      "   3 群馬県\n",
      "   3 山梨県\n",
      "   3 山形県\n",
      "   3 埼玉県\n",
      "   2 静岡県\n",
      "   2 愛知県\n",
      "   2 岐阜県\n",
      "   2 千葉県\n",
      "   1 和歌山県\n",
      "   1 高知県\n",
      "   1 愛媛県\n",
      "   1 大阪府\n"
     ]
    }
   ],
   "source": [
    "%%bash\n",
    "cut -f 1 hightemp.txt > col1.txt\n",
    "sort col1.txt | uniq -c > colc.txt\n",
    "sort -t 1 --reverse colc.txt"
   ]
  },
  {
   "cell_type": "code",
   "execution_count": null,
   "metadata": {
    "collapsed": true
   },
   "outputs": [],
   "source": []
  }
 ],
 "metadata": {
  "kernelspec": {
   "display_name": "Python 3",
   "language": "python",
   "name": "python3"
  },
  "language_info": {
   "codemirror_mode": {
    "name": "ipython",
    "version": 3
   },
   "file_extension": ".py",
   "mimetype": "text/x-python",
   "name": "python",
   "nbconvert_exporter": "python",
   "pygments_lexer": "ipython3",
   "version": "3.6.3"
  }
 },
 "nbformat": 4,
 "nbformat_minor": 2
}
