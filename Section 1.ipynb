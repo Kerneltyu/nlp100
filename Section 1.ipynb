{
 "cells": [
  {
   "cell_type": "raw",
   "metadata": {},
   "source": [
    "00. 文字列の逆順"
   ]
  },
  {
   "cell_type": "code",
   "execution_count": 35,
   "metadata": {},
   "outputs": [
    {
     "name": "stdout",
     "output_type": "stream",
     "text": [
      "desserts\n"
     ]
    }
   ],
   "source": [
    "string = \"stressed\"\n",
    "lstr = list(string)\n",
    "ilstr = []\n",
    "for i in reversed(lstr):\n",
    "    ilstr.append(i)\n",
    "istring= \"\".join(ilstr)\n",
    "print(istring)"
   ]
  },
  {
   "cell_type": "markdown",
   "metadata": {},
   "source": [
    "01. "
   ]
  },
  {
   "cell_type": "code",
   "execution_count": 48,
   "metadata": {},
   "outputs": [
    {
     "name": "stdout",
     "output_type": "stream",
     "text": [
      "タクシー\n"
     ]
    }
   ],
   "source": [
    "string = \"パタトクカシーー\"\n",
    "list_str = list(string)\n",
    "list_odd = []\n",
    "for i in range(len(list_str)):\n",
    "    if(i%2==1):\n",
    "        list_odd.append(list_str[i])\n",
    "union = \"\".join(list_odd)\n",
    "print(union)"
   ]
  },
  {
   "cell_type": "markdown",
   "metadata": {},
   "source": [
    "02. "
   ]
  },
  {
   "cell_type": "code",
   "execution_count": 54,
   "metadata": {},
   "outputs": [
    {
     "name": "stdout",
     "output_type": "stream",
     "text": [
      "パタトクカシーー\n"
     ]
    }
   ],
   "source": [
    "police = \"パトカー\"\n",
    "taxi = \"タクシー\"\n",
    "list_police = list(police)\n",
    "list_taxi = list(taxi)\n",
    "list_union = []\n",
    "for (i,j) in zip(list_police, list_taxi):\n",
    "    list_union.append(i)\n",
    "    list_union.append(j)\n",
    "union = \"\".join(list_union)\n",
    "print(union)"
   ]
  },
  {
   "cell_type": "markdown",
   "metadata": {},
   "source": [
    "03.円周率"
   ]
  },
  {
   "cell_type": "code",
   "execution_count": 47,
   "metadata": {},
   "outputs": [
    {
     "data": {
      "text/plain": [
       "[3, 1, 4, 1, 5, 9, 2, 6, 5, 3, 5, 8, 9, 7, 10]"
      ]
     },
     "execution_count": 47,
     "metadata": {},
     "output_type": "execute_result"
    }
   ],
   "source": [
    "import re\n",
    "string = \"Now I need a drink, alcoholic of course, after the heavy lectures involving quantum mechanics.\"\n",
    "list_string = [i for i in re.split(\"[ ,]\",string) if i!='']\n",
    "num_word = []\n",
    "for i in list_string:\n",
    "    num_word.append(len(i))\n",
    "num_word"
   ]
  },
  {
   "cell_type": "markdown",
   "metadata": {
    "collapsed": true
   },
   "source": [
    "04.元素記号"
   ]
  },
  {
   "cell_type": "code",
   "execution_count": 16,
   "metadata": {},
   "outputs": [
    {
     "data": {
      "text/plain": [
       "{'Al': 2,\n",
       " 'Ar': 2,\n",
       " 'Be': 2,\n",
       " 'Bo': 2,\n",
       " 'C': 1,\n",
       " 'F': 1,\n",
       " 'H': 1,\n",
       " 'Hi': 2,\n",
       " 'Ki': 2,\n",
       " 'Li': 2,\n",
       " 'Mi': 2,\n",
       " 'N': 1,\n",
       " 'Na': 2,\n",
       " 'O': 1,\n",
       " 'Pe': 2,\n",
       " 'S': 1,\n",
       " 'Si': 2}"
      ]
     },
     "execution_count": 16,
     "metadata": {},
     "output_type": "execute_result"
    }
   ],
   "source": [
    "import re\n",
    "para = \"Hi He Lied Because Boron Could Not Oxidize Fluorine. New Nations Might Also Sign Peace Security Clause. Arthur King Can.\"\n",
    "list_para = [i for i in re.split(\"[ .,]\", para) if i != \"\"]\n",
    "dic_words = {}\n",
    "for index, word in enumerate(list_para):\n",
    "    if(index == 1 or index == 5 or index == 6 or index == 7 or index == 8 or index == 9 or index == 15 or index == 16 or index == 19):\n",
    "        dic_words[word[0:1]] = 1\n",
    "    else:\n",
    "        dic_words[word[0:2]] = 2\n",
    "dic_words"
   ]
  },
  {
   "cell_type": "markdown",
   "metadata": {},
   "source": [
    "05.n-gram"
   ]
  },
  {
   "cell_type": "code",
   "execution_count": 33,
   "metadata": {},
   "outputs": [
    {
     "name": "stdout",
     "output_type": "stream",
     "text": [
      "['Iam', 'aman', 'anNLPer']\n",
      "['Ia', 'am', 'ma', 'an', 'nN', 'NL', 'LP', 'Pe', 'er']\n"
     ]
    }
   ],
   "source": [
    "def ngram(n, list):\n",
    "    #n:n-gram\n",
    "    #para:string\n",
    "    gram = []\n",
    "    for i in range(len(list)-n+1):\n",
    "        tmp = list[i]\n",
    "        for j in range(1,n):\n",
    "            tmp = tmp+list[i+n-1]\n",
    "        gram.append(tmp)\n",
    "    return gram\n",
    "    \n",
    "para = \"I am an NLPer\"\n",
    "word_list = [i for i in re.split('[ ,.]', para) if i != \"\"]\n",
    "words = \"\".join(word_list)\n",
    "char_list = list(words)\n",
    "print(ngram(2, word_list))\n",
    "print(ngram(2, char_list))"
   ]
  },
  {
   "cell_type": "markdown",
   "metadata": {},
   "source": [
    "06.集合"
   ]
  },
  {
   "cell_type": "code",
   "execution_count": 43,
   "metadata": {},
   "outputs": [
    {
     "name": "stdout",
     "output_type": "stream",
     "text": [
      "{'ap', 'ra', 'ar', 'di', 'se', 'is', 'ad', 'pa'}\n",
      "{'ap', 'ra', 'ar', 'ph', 'pa', 'gr', 'ag'}\n",
      "{'ap', 'ra', 'ar', 'di', 'se', 'ph', 'is', 'ad', 'pa', 'gr', 'ag'}\n",
      "{'ap', 'ar', 'ra', 'pa'}\n",
      "{'se', 'di', 'is', 'ad'}\n",
      "False\n"
     ]
    }
   ],
   "source": [
    "string_x = \"paraparaparadise\"\n",
    "string_y = \"paragraph\"\n",
    "list_x = list(string_x)\n",
    "list_y = list(string_y)\n",
    "bigram_x = set(ngram(2,list_x))\n",
    "bigram_y = set(ngram(2,list_y))\n",
    "union = bigram_x.union(bigram_y)\n",
    "ins = bigram_x.intersection(bigram_y)\n",
    "dif = bigram_x.difference(bigram_y)\n",
    "check = \"se\" in list(ins)\n",
    "print(bigram_x)\n",
    "print(bigram_y)\n",
    "print(union)\n",
    "print(ins)\n",
    "print(dif)\n",
    "print(check)"
   ]
  },
  {
   "cell_type": "markdown",
   "metadata": {},
   "source": [
    "07.テンプレートによる文生成"
   ]
  },
  {
   "cell_type": "code",
   "execution_count": 45,
   "metadata": {},
   "outputs": [
    {
     "name": "stdout",
     "output_type": "stream",
     "text": [
      "12時の気温は22.4\n"
     ]
    }
   ],
   "source": [
    "def xyz(x,y,z):\n",
    "    return str(x)+\"時の\"+str(y)+\"は\"+str(z)\n",
    "\n",
    "x = 12\n",
    "y = \"気温\"\n",
    "z = 22.4\n",
    "print(xyz(x,y,z))"
   ]
  },
  {
   "cell_type": "markdown",
   "metadata": {},
   "source": [
    "08.暗号文"
   ]
  },
  {
   "cell_type": "code",
   "execution_count": 49,
   "metadata": {},
   "outputs": [
    {
     "data": {
      "text/plain": [
       "'OOlpfwl'"
      ]
     },
     "execution_count": 49,
     "metadata": {},
     "output_type": "execute_result"
    }
   ],
   "source": [
    "def cipher(string):\n",
    "    list_str = list(string)\n",
    "    cipher_str = []\n",
    "    for i in list_str:\n",
    "        code = ord(i)\n",
    "        if(code > 96 and code < 123):\n",
    "            code = 219-code\n",
    "        cipher_str.append(chr(code))\n",
    "    return \"\".join(cipher_str)\n",
    "cipher(\"OOokudo\")"
   ]
  },
  {
   "cell_type": "markdown",
   "metadata": {},
   "source": [
    "09.Typoglycemia"
   ]
  },
  {
   "cell_type": "code",
   "execution_count": 63,
   "metadata": {},
   "outputs": [
    {
     "name": "stdout",
     "output_type": "stream",
     "text": [
      "['I', 'phenomenal', \"couldn't\", 'that', 'I', 'believe', 'human', 'power', 'what', 'I', 'was', 'reading', ':', 'the', 'understand', 'could', 'of', 'the', 'actually', 'mind', '.']\n"
     ]
    }
   ],
   "source": [
    "import random\n",
    "para = \"I couldn't believe that I could actually understand what I was reading : the phenomenal power of the human mind .\"\n",
    "para_list = para.split(\" \")\n",
    "pos_dic = {}\n",
    "random_para = para_list[1:len(para_list)-1]\n",
    "arrange_random_para = []\n",
    "for i, word in enumerate(random_para):\n",
    "    if(len(word)<5):\n",
    "        pos_dic[i] = word\n",
    "    else:\n",
    "        arrange_random_para.append(word)\n",
    "random.shuffle(arrange_random_para)\n",
    "param = \"\".join(arrange_random_para)\n",
    "union = [para_list[0]]\n",
    "union.extend(arrange_random_para)\n",
    "union.extend(para_list[len(para_list)-1])\n",
    "for i, word in pos_dic.items():\n",
    "    union.insert(i+1,word)\n",
    "print(union)"
   ]
  },
  {
   "cell_type": "code",
   "execution_count": null,
   "metadata": {
    "collapsed": true
   },
   "outputs": [],
   "source": []
  }
 ],
 "metadata": {
  "kernelspec": {
   "display_name": "Python 3",
   "language": "python",
   "name": "python3"
  },
  "language_info": {
   "codemirror_mode": {
    "name": "ipython",
    "version": 3
   },
   "file_extension": ".py",
   "mimetype": "text/x-python",
   "name": "python",
   "nbconvert_exporter": "python",
   "pygments_lexer": "ipython3",
   "version": "3.6.3"
  }
 },
 "nbformat": 4,
 "nbformat_minor": 2
}
